{
 "cells": [
  {
   "cell_type": "code",
   "execution_count": 1,
   "metadata": {},
   "outputs": [],
   "source": [
    "#读取csv中的两列（蛋白质编号和氨基酸序列）转化为fasta文件\n",
    "import pandas as pd\n",
    "\n",
    "# 从 CSV 文件中读取数据\n",
    "df = pd.read_csv('UDAB_production_20240521.csv')\n",
    "\n",
    "# 获取蛋白质编号和氨基酸序列列\n",
    "protein_ids = df['name']\n",
    "amino_acid_seqs = df['sequence_aa']\n",
    "\n",
    "# 打开一个文件用于写入 FASTA 格式数据\n",
    "with open('output.fasta', 'w') as fasta_file:\n",
    "    # 遍历每一行数据，并将其写入 FASTA 文件\n",
    "    for protein_id, amino_acid_seq in zip(protein_ids, amino_acid_seqs):\n",
    "        fasta_file.write(f'>{protein_id}\\n{amino_acid_seq}\\n')"
   ]
  }
 ],
 "metadata": {
  "kernelspec": {
   "display_name": "FUN",
   "language": "python",
   "name": "python3"
  },
  "language_info": {
   "codemirror_mode": {
    "name": "ipython",
    "version": 3
   },
   "file_extension": ".py",
   "mimetype": "text/x-python",
   "name": "python",
   "nbconvert_exporter": "python",
   "pygments_lexer": "ipython3",
   "version": "3.12.1"
  }
 },
 "nbformat": 4,
 "nbformat_minor": 2
}
