{
 "cells": [
  {
   "cell_type": "code",
   "execution_count": 1,
   "metadata": {},
   "outputs": [
    {
     "name": "stdout",
     "output_type": "stream",
     "text": [
      "{'data': tensor([[ 0.0224,  0.0143, -0.0020,  ..., -0.0495, -0.1222, -0.0426],\n",
      "        [ 0.0247,  0.0146,  0.0007,  ..., -0.0586, -0.1254, -0.0454],\n",
      "        [ 0.0040, -0.0263, -0.0179,  ..., -0.0267, -0.1128, -0.0810],\n",
      "        ...,\n",
      "        [ 0.0121, -0.0161,  0.0114,  ..., -0.0207, -0.1261, -0.0674],\n",
      "        [ 0.0416,  0.0167,  0.0156,  ..., -0.0460, -0.1191, -0.0480],\n",
      "        [ 0.0365, -0.0047,  0.0034,  ..., -0.0487, -0.1371, -0.0620]]), 'proteins': ['407', '4011', 'L6', '3061', 'L141', 'CD7', 'CE8', '3B11', '4B1', 'B9', 'L1', 'L19', 'L24', 'P13', 'L39', 'L77', 'L149', 'L168', '4081', 'L28', 'L150', 'CE10', 'P10', 'L61', 'L170', 'CB6', 'CE7', '203', 'P1', 'P3', 'L15', 'L116', 'L133', 'L174', 'TfR_1', 'TfR_2', 'P6', 'n501', 'L2', 'L7', 'L16', 'L88', 'L91', 'L93', 'L175', 'P4', 'P5', 'P11', 'P18', 'P19', 'P20', 'P21', 'C8', 'R5', 'L14', 'L23', 'L45', 'L70', 'L143', 'L151', 'L177', 'HSA_5', '301', 'P2', 'P15', 'L20', 'L25', 'L32', 'L37', 'L57', 'L72', 'L86', 'L136', 'L142', 'L147', 'L148', '3B2', '3B7', 'HSA_3', 'HSA_4', '406', 'P7', 'P8', 'P9', 'L73', 'L125', 'L134', 'L158', 'L160', 'L171', '3023', '3063', 'L38', 'L50', '201', 'P12', 'P16', 'L154', '202', 'P17', 'L85', 'L138', 'P14', '4023', 'L22']}\n",
      "torch.Size([105, 2560])\n"
     ]
    }
   ],
   "source": [
    "import torch\n",
    "tensor = torch.load('train_esm.pt')\n",
    "print(tensor)\n",
    "embed=tensor[\"data\"]\n",
    "print(embed.shape)"
   ]
  },
  {
   "cell_type": "code",
   "execution_count": 2,
   "metadata": {},
   "outputs": [],
   "source": [
    "import pandas as pd\n",
    "from pandas import read_csv\n",
    "data=read_csv('UDAB_production_20240521.csv')\n",
    "#取出production_classify列，如果是A就是1，如果是B就是0\n",
    "label = data['production_classify'].map({'A': 1, 'B': 0})"
   ]
  },
  {
   "cell_type": "code",
   "execution_count": 3,
   "metadata": {},
   "outputs": [
    {
     "name": "stdout",
     "output_type": "stream",
     "text": [
      "torch.Size([105, 2560])\n",
      "torch.FloatTensor\n",
      "torch.Size([105])\n",
      "torch.LongTensor\n"
     ]
    }
   ],
   "source": [
    "all_data = torch.load('train_esm.pt')[\"data\"]\n",
    "all_label=label\n",
    "#把label转换成tensor\n",
    "all_label = torch.tensor(all_label.values, dtype=torch.long)\n",
    "print(all_data.shape)\n",
    "print(all_data.type())\n",
    "print(all_label.shape)\n",
    "print(all_label.type())"
   ]
  },
  {
   "cell_type": "code",
   "execution_count": 27,
   "metadata": {},
   "outputs": [],
   "source": [
    "#将数据集分为训练集和测试集\n",
    "from sklearn.model_selection import train_test_split\n",
    "train_data, test_data, train_label, test_label = train_test_split(all_data, all_label, test_size=0.05, random_state=0)"
   ]
  },
  {
   "cell_type": "code",
   "execution_count": 32,
   "metadata": {},
   "outputs": [
    {
     "name": "stdout",
     "output_type": "stream",
     "text": [
      "Epoch [1/3], Loss: 0.7000524401664734\n",
      "Epoch [2/3], Loss: 0.6957221031188965\n",
      "Epoch [3/3], Loss: 0.6927087903022766\n"
     ]
    }
   ],
   "source": [
    "import torch\n",
    "import torch.nn as nn\n",
    "import torch.optim as optim\n",
    "\n",
    "class MLP(nn.Module):\n",
    "    def __init__(self, input_size, hidden_size_1,hidden_size_2,hidden_size_3,output_size):\n",
    "        super(MLP, self).__init__()\n",
    "        self.hidden_1 = nn.Linear(input_size, hidden_size_1)\n",
    "        self.relu = nn.ReLU()\n",
    "        self.hidden_2 = nn.Linear(hidden_size_1, hidden_size_2)\n",
    "        self.hidden_3 = nn.Linear(hidden_size_2, hidden_size_3)\n",
    "        self.output = nn.Linear(hidden_size_3, output_size)\n",
    "        \n",
    "    def forward(self, x):\n",
    "        x = self.hidden_1(x)\n",
    "        x = self.relu(x)\n",
    "        x = self.hidden_2(x)\n",
    "        x = self.relu(x)\n",
    "        x = self.hidden_3(x)\n",
    "        x = self.relu(x)\n",
    "        x = self.output(x)\n",
    "        return x\n",
    "\n",
    "input_size = 2560\n",
    "hidden_size_1 = 1120\n",
    "hidden_size_2 = 560\n",
    "hidden_size_3 = 280\n",
    "output_size = 2\n",
    "model = MLP(input_size, hidden_size_1,hidden_size_2, hidden_size_3,output_size)\n",
    "\n",
    "criterion = nn.CrossEntropyLoss()\n",
    "optimizer = optim.Adam(model.parameters(), lr=0.0001)\n",
    "\n",
    "input_data = train_data\n",
    "target_data = train_label\n",
    "\n",
    "num_epochs = 3\n",
    "for epoch in range(num_epochs):\n",
    "    output = model(input_data)\n",
    "    loss = criterion(output, target_data)\n",
    "    # 反向传播和优化\n",
    "    optimizer.zero_grad()\n",
    "    loss.backward()\n",
    "    optimizer.step()\n",
    "    \n",
    "    print(f'Epoch [{epoch+1}/{num_epochs}], Loss: {loss.item()}')\n",
    "\n",
    "# 测试模型\n",
    "test_input = test_data\n",
    "with torch.no_grad():\n",
    "    output = model(test_input)\n",
    "    predicted_classes = torch.argmax(output, dim=1)\n",
    "    # 计算准确率\n",
    "    accuracy = (predicted_classes == test_label).sum() / test_label.size(0) \n"
   ]
  },
  {
   "cell_type": "code",
   "execution_count": 33,
   "metadata": {},
   "outputs": [
    {
     "name": "stdout",
     "output_type": "stream",
     "text": [
      "tensor(0.6667)\n",
      "6\n"
     ]
    }
   ],
   "source": [
    "# 测试模型\n",
    "test_input = test_data\n",
    "with torch.no_grad():\n",
    "    output = model(test_input)\n",
    "    predicted_classes = torch.argmax(output, dim=1)\n",
    "    # 计算准确率\n",
    "accuracy = (predicted_classes == test_label).sum() / test_label.size(0)\n",
    "print(accuracy)\n",
    "print(test_label.size(0))"
   ]
  }
 ],
 "metadata": {
  "kernelspec": {
   "display_name": "pytorch2",
   "language": "python",
   "name": "python3"
  },
  "language_info": {
   "codemirror_mode": {
    "name": "ipython",
    "version": 3
   },
   "file_extension": ".py",
   "mimetype": "text/x-python",
   "name": "python",
   "nbconvert_exporter": "python",
   "pygments_lexer": "ipython3",
   "version": "3.9.18"
  }
 },
 "nbformat": 4,
 "nbformat_minor": 2
}
