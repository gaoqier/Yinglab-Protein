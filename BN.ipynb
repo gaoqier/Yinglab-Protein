{
 "cells": [
  {
   "cell_type": "code",
   "execution_count": null,
   "metadata": {},
   "outputs": [],
   "source": [
    "import torch\n",
    "tensor = torch.load('train_esm.pt')\n",
    "print(tensor)\n",
    "embed=tensor[\"data\"]\n",
    "print(embed.shape)"
   ]
  },
  {
   "cell_type": "code",
   "execution_count": null,
   "metadata": {},
   "outputs": [],
   "source": [
    "import pandas as pd\n",
    "from pandas import read_csv\n",
    "data=read_csv('UDAB_production_20240521.csv')\n",
    "#取出production_classify列，如果是A就是1，如果是B就是0\n",
    "label = data['production_classify'].map({'A': 1, 'B': 0})"
   ]
  },
  {
   "cell_type": "code",
   "execution_count": null,
   "metadata": {},
   "outputs": [],
   "source": [
    "all_data = torch.load('train_esm.pt')[\"data\"]\n",
    "all_label=label\n",
    "#把label转换成tensor\n",
    "all_label = torch.tensor(all_label.values, dtype=torch.long)\n",
    "print(all_data.shape)\n",
    "print(all_data.type())\n",
    "print(all_label.shape)\n",
    "print(all_label.type())"
   ]
  },
  {
   "cell_type": "code",
   "execution_count": null,
   "metadata": {},
   "outputs": [],
   "source": [
    "#将数据集分为训练集和测试集\n",
    "from sklearn.model_selection import train_test_split\n",
    "train_data, test_data, train_label, test_label = train_test_split(all_data, all_label, test_size=0.05, random_state=0)"
   ]
  }
 ],
 "metadata": {
  "language_info": {
   "name": "python"
  }
 },
 "nbformat": 4,
 "nbformat_minor": 2
}
