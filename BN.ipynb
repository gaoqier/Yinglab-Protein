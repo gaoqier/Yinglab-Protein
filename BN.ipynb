{
 "cells": [
  {
   "cell_type": "code",
   "execution_count": null,
   "metadata": {},
   "outputs": [],
   "source": [
    "import torch\n",
    "tensor = torch.load('train_esm.pt')\n",
    "print(tensor)\n",
    "embed=tensor[\"data\"]\n",
    "print(embed.shape)"
   ]
  },
  {
   "cell_type": "code",
   "execution_count": null,
   "metadata": {},
   "outputs": [],
   "source": [
    "import pandas as pd\n",
    "from pandas import read_csv\n",
    "data=read_csv('UDAB_production_20240521.csv')\n",
    "#取出production_classify列，如果是A就是1，如果是B就是0\n",
    "label = data['production_classify'].map({'A': 1, 'B': 0})"
   ]
  }
 ],
 "metadata": {
  "language_info": {
   "name": "python"
  }
 },
 "nbformat": 4,
 "nbformat_minor": 2
}
